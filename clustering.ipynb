{
 "cells": [
  {
   "cell_type": "code",
   "execution_count": 1,
   "metadata": {},
   "outputs": [],
   "source": [
    "import pandas as pd\n",
    "import numpy as np\n",
    "from sklearn.cluster import KMeans\n",
    "from sklearn.feature_extraction.text import TfidfVectorizer"
   ]
  },
  {
   "cell_type": "code",
   "execution_count": 2,
   "metadata": {},
   "outputs": [],
   "source": [
    "toxic_data = pd.read_csv('data/corpus.csv')\n",
    "lgbt_data = pd.read_csv('data/corpus_lgbt.csv')"
   ]
  },
  {
   "cell_type": "code",
   "execution_count": 3,
   "metadata": {},
   "outputs": [],
   "source": [
    "vectorizer = TfidfVectorizer().fit(toxic_data['comentario'])\n",
    "X1 = vectorizer.transform(toxic_data['comentario'])\n",
    "X2 = vectorizer.transform(lgbt_data['comentario'])"
   ]
  },
  {
   "cell_type": "code",
   "execution_count": 4,
   "metadata": {
    "scrolled": true
   },
   "outputs": [
    {
     "data": {
      "text/plain": [
       "KMeans(algorithm='auto', copy_x=True, init='k-means++', max_iter=300,\n",
       "       n_clusters=2, n_init=10, n_jobs=None, precompute_distances='auto',\n",
       "       random_state=None, tol=0.0001, verbose=0)"
      ]
     },
     "execution_count": 4,
     "metadata": {},
     "output_type": "execute_result"
    }
   ],
   "source": [
    "clustering = KMeans(n_clusters=2)\n",
    "clustering.fit(X1)"
   ]
  },
  {
   "cell_type": "code",
   "execution_count": 5,
   "metadata": {},
   "outputs": [],
   "source": [
    "ones = np.where(clustering.labels_ == 1)\n",
    "zeros = np.where(clustering.labels_ == 0)"
   ]
  },
  {
   "cell_type": "code",
   "execution_count": 14,
   "metadata": {},
   "outputs": [
    {
     "name": "stdout",
     "output_type": "stream",
     "text": [
      "Cluster 0 - Toxic Data\n",
      "toxic ratio: 0.20051724137931035\n",
      "non-toxic ratio: 0.7994827586206896\n",
      "\n",
      "1.0    9274\n",
      "0.0    2326\n",
      "Name: toxico, dtype: int64\n"
     ]
    }
   ],
   "source": [
    "toxic_counts = toxic_data.iloc[zeros]['toxico'].value_counts()\n",
    "print('Cluster 0 - Toxic Data')\n",
    "print('toxic ratio:', toxic_counts[0]/(toxic_counts[0]+toxic_counts[1]))\n",
    "print('non-toxic ratio:', toxic_counts[1]/(toxic_counts[0]+toxic_counts[1]))\n",
    "print()\n",
    "print(toxic_counts)"
   ]
  },
  {
   "cell_type": "code",
   "execution_count": 15,
   "metadata": {
    "scrolled": true
   },
   "outputs": [
    {
     "name": "stdout",
     "output_type": "stream",
     "text": [
      "Cluster 1 - Toxic Data\n",
      "toxic ratio: 0.20344544708777687\n",
      "non-toxic ratio: 0.7965545529122231\n",
      "\n",
      "1.0    5826\n",
      "0.0    1488\n",
      "Name: toxico, dtype: int64\n"
     ]
    }
   ],
   "source": [
    "toxic_counts = toxic_data.iloc[ones]['toxico'].value_counts()\n",
    "print('Cluster 1 - Toxic Data')\n",
    "print('toxic ratio:', toxic_counts[0]/(toxic_counts[0]+toxic_counts[1]))\n",
    "print('non-toxic ratio:', toxic_counts[1]/(toxic_counts[0]+toxic_counts[1]))\n",
    "print()\n",
    "print(toxic_counts)"
   ]
  },
  {
   "cell_type": "code",
   "execution_count": 16,
   "metadata": {},
   "outputs": [],
   "source": [
    "predictions = clustering.predict(X2)"
   ]
  },
  {
   "cell_type": "code",
   "execution_count": 17,
   "metadata": {},
   "outputs": [],
   "source": [
    "ones = np.where(predictions == 1)\n",
    "zeros = np.where(predictions == 0)"
   ]
  },
  {
   "cell_type": "code",
   "execution_count": 18,
   "metadata": {},
   "outputs": [
    {
     "name": "stdout",
     "output_type": "stream",
     "text": [
      "Cluster 0 - LGBT Data\n",
      "toxic ratio: 0.26362068965517244\n",
      "non-toxic ratio: 0.7363793103448276\n",
      "\n",
      "1    8542\n",
      "0    3058\n",
      "Name: toxico, dtype: int64\n"
     ]
    }
   ],
   "source": [
    "toxic_counts = lgbt_data.iloc[zeros]['toxico'].value_counts()\n",
    "print('Cluster 0 - LGBT Data')\n",
    "print('toxic ratio:', toxic_counts[0]/(toxic_counts[0]+toxic_counts[1]))\n",
    "print('non-toxic ratio:', toxic_counts[1]/(toxic_counts[0]+toxic_counts[1]))\n",
    "print()\n",
    "print(toxic_counts)"
   ]
  },
  {
   "cell_type": "code",
   "execution_count": 19,
   "metadata": {},
   "outputs": [
    {
     "name": "stdout",
     "output_type": "stream",
     "text": [
      "Cluster 1 - LGBT Data\n",
      "toxic ratio: 0.220809406617446\n",
      "non-toxic ratio: 0.779190593382554\n",
      "\n",
      "1    5699\n",
      "0    1615\n",
      "Name: toxico, dtype: int64\n"
     ]
    }
   ],
   "source": [
    "toxic_counts = lgbt_data.iloc[ones]['toxico'].value_counts()\n",
    "print('Cluster 1 - LGBT Data')\n",
    "print('toxic ratio:', toxic_counts[0]/(toxic_counts[0]+toxic_counts[1]))\n",
    "print('non-toxic ratio:', toxic_counts[1]/(toxic_counts[0]+toxic_counts[1]))\n",
    "print()\n",
    "print(toxic_counts)"
   ]
  }
 ],
 "metadata": {
  "kernelspec": {
   "display_name": "Python 3",
   "language": "python",
   "name": "python3"
  },
  "language_info": {
   "codemirror_mode": {
    "name": "ipython",
    "version": 3
   },
   "file_extension": ".py",
   "mimetype": "text/x-python",
   "name": "python",
   "nbconvert_exporter": "python",
   "pygments_lexer": "ipython3",
   "version": "3.7.3"
  }
 },
 "nbformat": 4,
 "nbformat_minor": 2
}
