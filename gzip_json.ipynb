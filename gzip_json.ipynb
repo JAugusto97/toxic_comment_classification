{
 "cells": [
  {
   "cell_type": "code",
   "execution_count": 287,
   "metadata": {},
   "outputs": [],
   "source": [
    "import gzip\n",
    "import json\n",
    "from os import listdir\n",
    "from os.path import isfile, join\n",
    "from gensim.models import Word2Vec\n",
    "from nltk.tokenize import word_tokenize\n",
    "from nltk import FreqDist"
   ]
  },
  {
   "cell_type": "code",
   "execution_count": 293,
   "metadata": {
    "scrolled": false
   },
   "outputs": [
    {
     "data": {
      "text/plain": [
       "['jsons/twitter-data-ptbr-general-2019-07-24-002.json.gz',\n",
       " 'jsons/twitter-data-ptbr-general-2019-07-24-000.json.gz',\n",
       " 'jsons/twitter-data-ptbr-general-2019-07-24-001.json.gz',\n",
       " 'jsons/twitter-data-ptbr-general-2019-07-23-004.json.gz']"
      ]
     },
     "execution_count": 293,
     "metadata": {},
     "output_type": "execute_result"
    }
   ],
   "source": [
    "PATH = 'jsons/'\n",
    "file_list = [PATH+f for f in listdir(PATH) if (f.endswith('.gz'))]\n",
    "file_list"
   ]
  },
  {
   "cell_type": "code",
   "execution_count": 294,
   "metadata": {},
   "outputs": [],
   "source": [
    "sentences = []\n",
    "for file in file_list:\n",
    "    with gzip.open(file) as f:\n",
    "        file_lines = f.readlines()\n",
    "        for line in file_lines:\n",
    "            try: \n",
    "                parsed_text = json.loads(line)['retweeted_status']['extended_tweet']['full_text']\n",
    "            except KeyError:\n",
    "                parsed_text = json.loads(line)['text'] # small tweet\n",
    "            \n",
    "            \n",
    "            sentence = word_tokenize(parsed_text.lower())\n",
    "            \n",
    "            if sentence not in sentences:\n",
    "                sentences.append(sentence)"
   ]
  },
  {
   "cell_type": "code",
   "execution_count": 296,
   "metadata": {},
   "outputs": [],
   "source": [
    "sequential_text = []\n",
    "for sentence in text:\n",
    "    for token in sentence:\n",
    "        sequential_text.append(token)\n",
    "        \n",
    "frequent_terms = FreqDist(sequential_text)"
   ]
  },
  {
   "cell_type": "code",
   "execution_count": 298,
   "metadata": {},
   "outputs": [
    {
     "data": {
      "text/plain": [
       "[('@', 107208),\n",
       " (':', 90803),\n",
       " ('rt', 59807),\n",
       " ('o', 58690),\n",
       " ('que', 42811),\n",
       " (',', 39044),\n",
       " ('foi', 36617),\n",
       " ('.', 35634),\n",
       " ('de', 27839),\n",
       " ('https', 26023),\n",
       " ('a', 23540),\n",
       " ('”', 23398),\n",
       " ('eu', 22599),\n",
       " ('e', 21321),\n",
       " ('“', 20916),\n",
       " ('?', 19132),\n",
       " ('agora', 17863),\n",
       " ('quando', 17860),\n",
       " ('governo', 17767),\n",
       " ('euclarice', 17425)]"
      ]
     },
     "execution_count": 298,
     "metadata": {},
     "output_type": "execute_result"
    }
   ],
   "source": [
    "frequent_terms.most_common(20)"
   ]
  }
 ],
 "metadata": {
  "kernelspec": {
   "display_name": "Python 3",
   "language": "python",
   "name": "python3"
  },
  "language_info": {
   "codemirror_mode": {
    "name": "ipython",
    "version": 3
   },
   "file_extension": ".py",
   "mimetype": "text/x-python",
   "name": "python",
   "nbconvert_exporter": "python",
   "pygments_lexer": "ipython3",
   "version": "3.7.3"
  }
 },
 "nbformat": 4,
 "nbformat_minor": 2
}
